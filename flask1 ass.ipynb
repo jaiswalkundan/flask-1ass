{
 "cells": [
  {
   "cell_type": "code",
   "execution_count": null,
   "id": "e4ef860c-30d5-48d6-9ead-806a6a2db3cc",
   "metadata": {},
   "outputs": [],
   "source": [
    "Q1. What is Flask Framework? What are the advantages of Flask Framework?"
   ]
  },
  {
   "cell_type": "markdown",
   "id": "6b9ca6fb-77e1-4249-83d2-4a796afad35e",
   "metadata": {},
   "source": [
    "Flask is mirco web framework for python, designed to be lightweight and modular.It provides the essentials for \n",
    "bulinding web applications allowing developers to add componets as needed.some advantages of flask included its simplicity,flexibility,and ease of learing."
   ]
  },
  {
   "cell_type": "code",
   "execution_count": null,
   "id": "8af24998-d3d7-4238-b830-76737192875b",
   "metadata": {},
   "outputs": [],
   "source": [
    "Q2. Create a simple Flask application to display ‘Hello World!!’. Attach the screenshot of the output in\n",
    "Jupyter Notebook."
   ]
  },
  {
   "cell_type": "markdown",
   "id": "3e39b4cd-120e-411d-853c-13086309c726",
   "metadata": {},
   "source": [
    "pip install Flask\n",
    "from flask import Flask\n",
    "app = Flask(__name__)\n",
    "\n",
    "@app.route('/')\n",
    "def hello_world():\n",
    "    return 'Hello World!!'\n",
    "if __name__ == '__main__':\n",
    "    app.run(debug = True)"
   ]
  },
  {
   "cell_type": "code",
   "execution_count": null,
   "id": "99bb8184-785f-42fb-a447-b5a79a59d743",
   "metadata": {},
   "outputs": [],
   "source": [
    "Q3. What is App routing in Flask? Why do we use app routes?"
   ]
  },
  {
   "cell_type": "markdown",
   "id": "c675f0ef-297c-4f2d-974b-85b099307f18",
   "metadata": {},
   "source": [
    "from flask import Flask\n",
    "\n",
    "app = Flask(__name__)\n",
    "\n",
    "@app.route('/')\n",
    "def home():\n",
    "    return 'Hello, this is the home page!\n",
    "\n",
    "@app.route('/about')\n",
    "def about():\n",
    "    return 'This is the about page.'\n",
    "\n",
    "if __name__ == '__main__':\n",
    "    app.run()\n"
   ]
  },
  {
   "cell_type": "markdown",
   "id": "8b1ddfe0-44ac-4f5f-8742-e87d15fc9635",
   "metadata": {},
   "source": [
    "Q4. Create a “/welcome” route to display the welcome message “Welcome to ABC Corporation” and a “/”\n",
    "route to show the following details:\n",
    "Company Name: ABC Corporation\n",
    "Location: India\n",
    "Contact Detail: 999-999-9999\n",
    "Attach the screenshot of the output in Jupyter Notebook."
   ]
  },
  {
   "cell_type": "code",
   "execution_count": null,
   "id": "0ebcdba0-4608-4159-ad84-4beb5d66aa04",
   "metadata": {},
   "outputs": [],
   "source": [
    "from flask import Flask, render_template_string\n",
    "from IPython.display import display,HTML\n",
    "\n",
    "app = Flask(__name__)\n",
    "@aap.route('/welcome')\n",
    "def details():\n",
    "    location = \"India\"\n",
    "    output_html=f\"<p>Location: {location}</p>\"\n",
    "    display(HTML(output_html))\n",
    "    return \""
   ]
  },
  {
   "cell_type": "code",
   "execution_count": null,
   "id": "ef71c8b3-9149-440e-9282-33747203010e",
   "metadata": {},
   "outputs": [],
   "source": [
    "Q5. What function is used in Flask for URL Building? Write a Python code to demonstrate the working of the\n",
    "url_for() function."
   ]
  },
  {
   "cell_type": "markdown",
   "id": "d70b50fc-7654-411e-bfcf-2d12498a38a6",
   "metadata": {},
   "source": [
    "from flask import Flask,url_for\n",
    "\n",
    "app = Flask( __name__)\n",
    "\n",
    "@app.route('/')\n",
    "def index():\n",
    "    return 'Hello, this is the index page.'\n",
    "@app.route('/user/<username>' )\n",
    "def user_profile(username):\n",
    "    return f'Hello, {username}!'\n",
    "\n",
    "if __name__ == '__main__':\n",
    "    with app.test_request_context():\n",
    "        index_url = url_for('index')\n",
    "        user_url = url_for('user_profile', username='john_doe')\n",
    "        \n",
    "        print(f'Index URL:{index_url}')\n",
    "        print(f'User Profile URL:{user_url}')\n"
   ]
  },
  {
   "cell_type": "code",
   "execution_count": null,
   "id": "02cf1d62-001e-4f88-ba55-e67f025b26cd",
   "metadata": {},
   "outputs": [],
   "source": []
  },
  {
   "cell_type": "code",
   "execution_count": null,
   "id": "30be5a5c-afba-4b86-b815-c87b0171b8d3",
   "metadata": {},
   "outputs": [],
   "source": []
  }
 ],
 "metadata": {
  "kernelspec": {
   "display_name": "Python 3 (ipykernel)",
   "language": "python",
   "name": "python3"
  },
  "language_info": {
   "codemirror_mode": {
    "name": "ipython",
    "version": 3
   },
   "file_extension": ".py",
   "mimetype": "text/x-python",
   "name": "python",
   "nbconvert_exporter": "python",
   "pygments_lexer": "ipython3",
   "version": "3.10.8"
  }
 },
 "nbformat": 4,
 "nbformat_minor": 5
}
